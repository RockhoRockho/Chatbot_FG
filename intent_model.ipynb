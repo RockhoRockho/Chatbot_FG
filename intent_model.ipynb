{
 "cells": [
  {
   "cell_type": "code",
   "execution_count": 1,
   "id": "62d06b72",
   "metadata": {},
   "outputs": [],
   "source": [
    "# 필요한 모듈 임포트\n",
    "import pandas as pd\n",
    "import tensorflow as tf\n",
    "from tensorflow.keras import preprocessing\n",
    "from tensorflow.keras.models import Model\n",
    "from tensorflow.keras.layers import Input, Embedding, Dense, Dropout, Conv1D, GlobalMaxPool1D, concatenate\n",
    "import os"
   ]
  },
  {
   "cell_type": "code",
   "execution_count": 2,
   "id": "14ec417d",
   "metadata": {
    "scrolled": true
   },
   "outputs": [
    {
     "data": {
      "text/html": [
       "<div>\n",
       "<style scoped>\n",
       "    .dataframe tbody tr th:only-of-type {\n",
       "        vertical-align: middle;\n",
       "    }\n",
       "\n",
       "    .dataframe tbody tr th {\n",
       "        vertical-align: top;\n",
       "    }\n",
       "\n",
       "    .dataframe thead th {\n",
       "        text-align: right;\n",
       "    }\n",
       "</style>\n",
       "<table border=\"1\" class=\"dataframe\">\n",
       "  <thead>\n",
       "    <tr style=\"text-align: right;\">\n",
       "      <th></th>\n",
       "      <th>네, 다른 사이드 메뉴는 없나요?</th>\n",
       "      <th>1</th>\n",
       "      <th>메뉴판 요구</th>\n",
       "    </tr>\n",
       "  </thead>\n",
       "  <tbody>\n",
       "    <tr>\n",
       "      <th>0</th>\n",
       "      <td>빵 종류가 어떻게 되죠?</td>\n",
       "      <td>1</td>\n",
       "      <td>메뉴판 요구</td>\n",
       "    </tr>\n",
       "    <tr>\n",
       "      <th>1</th>\n",
       "      <td>샌드위치 판매하나요?</td>\n",
       "      <td>1</td>\n",
       "      <td>메뉴판 요구</td>\n",
       "    </tr>\n",
       "    <tr>\n",
       "      <th>2</th>\n",
       "      <td>빵 종류는 진열된 게 전부인가요?</td>\n",
       "      <td>1</td>\n",
       "      <td>메뉴판 요구</td>\n",
       "    </tr>\n",
       "    <tr>\n",
       "      <th>3</th>\n",
       "      <td>메뉴판 보여주실 수 있나요?</td>\n",
       "      <td>1</td>\n",
       "      <td>메뉴판 요구</td>\n",
       "    </tr>\n",
       "    <tr>\n",
       "      <th>4</th>\n",
       "      <td>메뉴판 좀 부탁드려요</td>\n",
       "      <td>1</td>\n",
       "      <td>메뉴판 요구</td>\n",
       "    </tr>\n",
       "    <tr>\n",
       "      <th>...</th>\n",
       "      <td>...</td>\n",
       "      <td>...</td>\n",
       "      <td>...</td>\n",
       "    </tr>\n",
       "    <tr>\n",
       "      <th>104638</th>\n",
       "      <td>아메리카노 테이크 아웃으로 해주세요</td>\n",
       "      <td>10</td>\n",
       "      <td>NaN</td>\n",
       "    </tr>\n",
       "    <tr>\n",
       "      <th>104639</th>\n",
       "      <td>네 테이크아웃 할인돼요?</td>\n",
       "      <td>10</td>\n",
       "      <td>NaN</td>\n",
       "    </tr>\n",
       "    <tr>\n",
       "      <th>104640</th>\n",
       "      <td>테이크아웃이랑 홀에서 먹는 거랑 가격이 다른가요?</td>\n",
       "      <td>10</td>\n",
       "      <td>NaN</td>\n",
       "    </tr>\n",
       "    <tr>\n",
       "      <th>104641</th>\n",
       "      <td>테이크아웃은 더 싼가요?</td>\n",
       "      <td>10</td>\n",
       "      <td>NaN</td>\n",
       "    </tr>\n",
       "    <tr>\n",
       "      <th>104642</th>\n",
       "      <td>테이크아웃은 더 싸나요?</td>\n",
       "      <td>10</td>\n",
       "      <td>NaN</td>\n",
       "    </tr>\n",
       "  </tbody>\n",
       "</table>\n",
       "<p>104643 rows × 3 columns</p>\n",
       "</div>"
      ],
      "text/plain": [
       "                 네, 다른 사이드 메뉴는 없나요?   1  메뉴판 요구\n",
       "0                     빵 종류가 어떻게 되죠?   1  메뉴판 요구\n",
       "1                       샌드위치 판매하나요?   1  메뉴판 요구\n",
       "2                빵 종류는 진열된 게 전부인가요?   1  메뉴판 요구\n",
       "3                   메뉴판 보여주실 수 있나요?   1  메뉴판 요구\n",
       "4                       메뉴판 좀 부탁드려요   1  메뉴판 요구\n",
       "...                             ...  ..     ...\n",
       "104638          아메리카노 테이크 아웃으로 해주세요  10     NaN\n",
       "104639                네 테이크아웃 할인돼요?  10     NaN\n",
       "104640  테이크아웃이랑 홀에서 먹는 거랑 가격이 다른가요?  10     NaN\n",
       "104641                테이크아웃은 더 싼가요?  10     NaN\n",
       "104642                테이크아웃은 더 싸나요?  10     NaN\n",
       "\n",
       "[104643 rows x 3 columns]"
      ]
     },
     "execution_count": 2,
     "metadata": {},
     "output_type": "execute_result"
    }
   ],
   "source": [
    "# ① 데이터 읽어오기\n",
    "train_file = os.path.join('./models/intent', \"Intent_train_data.csv\")\n",
    "df = pd.read_csv(train_file, delimiter=',')\n",
    "df"
   ]
  },
  {
   "cell_type": "code",
   "execution_count": 3,
   "id": "e646407c",
   "metadata": {},
   "outputs": [
    {
     "data": {
      "text/plain": [
       "14"
      ]
     },
     "execution_count": 3,
     "metadata": {},
     "output_type": "execute_result"
    }
   ],
   "source": [
    "df.columns = ['query', 'intent', 'intent_info']\n",
    "seq_len = list(map(lambda x : len(x.split(' ')), df['query']))\n",
    "max(seq_len)  # 문장 최대길이"
   ]
  },
  {
   "cell_type": "code",
   "execution_count": 4,
   "id": "f67d6e76",
   "metadata": {},
   "outputs": [],
   "source": [
    "# 단어 시퀀스 벡터 크기\n",
    "MAX_SEQ_LEN = max(seq_len)\n",
    "\n",
    "def GlobalParams():\n",
    "    global MAX_SEQ_LEN"
   ]
  },
  {
   "cell_type": "code",
   "execution_count": 5,
   "id": "107ca845",
   "metadata": {},
   "outputs": [],
   "source": [
    "# '질문(query)' 과 '의도(intent)'\n",
    "queries = df['query'].tolist()\n",
    "intents = df['intent'].tolist()"
   ]
  },
  {
   "cell_type": "code",
   "execution_count": 6,
   "id": "36d97774",
   "metadata": {
    "scrolled": true
   },
   "outputs": [
    {
     "data": {
      "text/plain": [
       "['빵 종류가 어떻게 되죠?',\n",
       " '샌드위치 판매하나요?',\n",
       " '빵 종류는 진열된 게 전부인가요?',\n",
       " '메뉴판 보여주실 수 있나요?',\n",
       " '메뉴판 좀 부탁드려요',\n",
       " '메뉴판 이거밖에 없어요?',\n",
       " '메뉴판 좀 볼 수 있을까요?',\n",
       " '브레드 종류는 뭐가 있나요?',\n",
       " '플렛 화이트 아이스도 있나요?',\n",
       " '커피 메뉴 말고는 없나요?',\n",
       " '커피 메뉴는 어디 있어요?',\n",
       " '커피종류는 어떤 거 있어요',\n",
       " '차 종류는 어디에 있어요?',\n",
       " '아 그럼 겨울에만 판매되는 메뉴는 있나요?',\n",
       " '메뉴 다 되는 건가요?',\n",
       " '빵 종류는 뭐가 있나요?',\n",
       " '가나슈 가능 한가요',\n",
       " '갈릭 치즈 브레드 가능 한가요',\n",
       " '감귤라테 가능 한가요',\n",
       " '거품시나몬가루 가능 한가요']"
      ]
     },
     "execution_count": 6,
     "metadata": {},
     "output_type": "execute_result"
    }
   ],
   "source": [
    "queries[:20]"
   ]
  },
  {
   "cell_type": "code",
   "execution_count": 7,
   "id": "647f12cd",
   "metadata": {},
   "outputs": [],
   "source": [
    "# 전처리 모듈 불러오기\n",
    "from utils.Preprocess import Preprocess\n",
    "p = Preprocess(word2index_dic=os.path.join('./train_tools/dict', 'chatbot_dict.bin'),\n",
    "               userdic=os.path.join('./utils', 'my_dict.tsv'))"
   ]
  },
  {
   "cell_type": "code",
   "execution_count": 8,
   "id": "0a000d5d",
   "metadata": {},
   "outputs": [],
   "source": [
    "# 단어 시퀀스 생성 (가장 시간 많이 걸림)\n",
    "# 해당 단어에 매칭되는 번호로 시퀀스 생성\n",
    "\n",
    "# ★ 시간 제법 걸림 * 몇십초 정도..\n",
    "\n",
    "sequences = []\n",
    "for sentence in queries:\n",
    "    pos = p.pos(sentence)\n",
    "    keywords = p.get_keywords(pos, without_tag=True)\n",
    "    seq = p.get_wordidx_sequence(keywords)\n",
    "    sequences.append(seq)"
   ]
  },
  {
   "cell_type": "code",
   "execution_count": null,
   "id": "d1884e90",
   "metadata": {},
   "outputs": [],
   "source": [
    "# ② 단어 인덱스 시퀀스 벡터 \n",
    "# 단어 시퀀스 벡터 크기 (MAX_SEQ_LEN 로 동일하게 맞추기, 패딩처리)\n",
    "from config.GlobalParams import MAX_SEQ_LEN\n",
    "padded_seqs = preprocessing.sequence.pad_sequences(sequences, maxlen=MAX_SEQ_LEN, padding='post')"
   ]
  },
  {
   "cell_type": "code",
   "execution_count": null,
   "id": "49002a46",
   "metadata": {},
   "outputs": [],
   "source": [
    "# ③ 학습용, 검증용, 테스트용 데이터셋 생성\n",
    "ds = tf.data.Dataset.from_tensor_slices((padded_seqs, intents)) # 패딩처리된 시퀀스와 의도(intent) 리스트 전체를 데이터셋 객체로\n",
    "ds = ds.shuffle(len(queries)) # 랜덤 섞기\n",
    "\n",
    "# 학습셋:검증셋:테스트셋 = 7:2:1\n",
    "train_size = int(len(padded_seqs) * 0.7)\n",
    "val_size = int(len(padded_seqs) * 0.2)\n",
    "test_size = int(len(padded_seqs) * 0.1)\n",
    "\n",
    "train_ds = ds.take(train_size).batch(20)\n",
    "val_ds = ds.skip(train_size).take(val_size).batch(20)\n",
    "test_ds = ds.skip(train_size + val_size).take(test_size).batch(20)\n",
    "\n",
    "# 하이퍼 파라미터 설정\n",
    "dropout_prob = 0.5\n",
    "EMB_SIZE = 128\n",
    "EPOCH = 5\n",
    "VOCAB_SIZE = len(p.word_index) + 1 #전체 단어 개수\n"
   ]
  },
  {
   "cell_type": "code",
   "execution_count": null,
   "id": "68d55db9",
   "metadata": {},
   "outputs": [],
   "source": [
    "# ④ CNN 모델 정의\n",
    "# keras 함수형 모델 방식으로 구현\n",
    "input_layer = Input(shape=(MAX_SEQ_LEN,))  # 입려크기\n",
    "embedding_layer = Embedding(VOCAB_SIZE, EMB_SIZE, input_length=MAX_SEQ_LEN)(input_layer)\n",
    "dropout_emb = Dropout(rate=dropout_prob)(embedding_layer)\n",
    "\n",
    "conv1 = Conv1D(\n",
    "    filters=128,\n",
    "    kernel_size=3,\n",
    "    padding='valid',\n",
    "    activation=tf.nn.relu)(dropout_emb)\n",
    "pool1 = GlobalMaxPool1D()(conv1)\n",
    "\n",
    "conv2 = Conv1D(\n",
    "    filters=128,\n",
    "    kernel_size=4,\n",
    "    padding='valid',\n",
    "    activation=tf.nn.relu)(dropout_emb)\n",
    "pool2 = GlobalMaxPool1D()(conv2)\n",
    "\n",
    "conv3 = Conv1D(\n",
    "    filters=128,\n",
    "    kernel_size=5,\n",
    "    padding='valid',\n",
    "    activation=tf.nn.relu)(dropout_emb)\n",
    "pool3 = GlobalMaxPool1D()(conv3)\n",
    "\n",
    "# 3,4,5gram 이후 합치기\n",
    "concat = concatenate([pool1, pool2, pool3])\n",
    "\n",
    "hidden = Dense(128, activation=tf.nn.relu)(concat)\n",
    "dropout_hidden = Dropout(rate=dropout_prob)(hidden)\n",
    "logits = Dense(5, name='logits')(dropout_hidden)  # 최종적으로 5가의 의도 클래스를 분류. 결과로 나온 값(logits) 을을 점수(score) 라 부른다\n",
    "predictions = Dense(5, activation=tf.nn.softmax)(logits)\n"
   ]
  },
  {
   "cell_type": "code",
   "execution_count": null,
   "id": "f016fbe6",
   "metadata": {},
   "outputs": [],
   "source": [
    "# ⑤ 모델 생성 \n",
    "model = Model(inputs=input_layer, outputs=predictions)\n",
    "model.compile(optimizer='adam',\n",
    "              loss='sparse_categorical_crossentropy',\n",
    "              metrics=['accuracy'])"
   ]
  },
  {
   "cell_type": "code",
   "execution_count": null,
   "id": "41289bb8",
   "metadata": {},
   "outputs": [],
   "source": [
    "model.summary()"
   ]
  },
  {
   "cell_type": "code",
   "execution_count": null,
   "id": "ecf204a0",
   "metadata": {},
   "outputs": [],
   "source": [
    "# 모델학습\n",
    "# ★ 시간 걸림 ★\n",
    "model.fit(train_ds, validation_data=val_ds, epochs=EPOCH, verbose=1)"
   ]
  },
  {
   "cell_type": "code",
   "execution_count": 22,
   "id": "69ceaf09",
   "metadata": {},
   "outputs": [
    {
     "name": "stdout",
     "output_type": "stream",
     "text": [
      "529/529 [==============================] - 1s 1ms/step - loss: 0.0056 - accuracy: 0.9974\n",
      "Accuracy: 99.744439\n",
      "loss: 0.005575\n"
     ]
    }
   ],
   "source": [
    "# ⑦ 모델 평가(테스트 데이터 셋 이용)\n",
    "loss, accuracy = model.evaluate(test_ds, verbose=1)\n",
    "print('Accuracy: %f' % (accuracy * 100))\n",
    "print('loss: %f' % (loss))"
   ]
  },
  {
   "cell_type": "code",
   "execution_count": 23,
   "id": "ac0f2f84",
   "metadata": {},
   "outputs": [],
   "source": [
    "# ⑧ 모델 저장\n",
    "model.save(os.path.join('./models/intent','intent_model.h5'))"
   ]
  },
  {
   "cell_type": "markdown",
   "id": "37f3cd37",
   "metadata": {},
   "source": [
    "## 의도분류 모듈 테스트"
   ]
  },
  {
   "cell_type": "code",
   "execution_count": 25,
   "id": "13be27d3",
   "metadata": {},
   "outputs": [],
   "source": [
    "from utils.Preprocess import Preprocess\n",
    "from models.intent.IntentModel import IntentModel\n",
    "import os\n",
    "\n",
    "p = Preprocess(word2index_dic=os.path.join('./train_tools/dict', 'chatbot_dict.bin'),\n",
    "               userdic=os.path.join('./utils', 'user_dic.tsv'))"
   ]
  },
  {
   "cell_type": "code",
   "execution_count": 26,
   "id": "54c5f238",
   "metadata": {},
   "outputs": [],
   "source": [
    "intent = IntentModel(model_name=os.path.join('./models/intent', 'intent_model.h5'), preprocess=p)"
   ]
  },
  {
   "cell_type": "code",
   "execution_count": 27,
   "id": "7872aaf4",
   "metadata": {},
   "outputs": [],
   "source": [
    "query = \"아메리카노 주세요\""
   ]
  },
  {
   "cell_type": "code",
   "execution_count": 28,
   "id": "a9b656dd",
   "metadata": {},
   "outputs": [],
   "source": [
    "predict = intent.predict_class(query)\n",
    "predict_label = intent.labels[predict]"
   ]
  },
  {
   "cell_type": "code",
   "execution_count": 29,
   "id": "c7c98d02",
   "metadata": {},
   "outputs": [
    {
     "name": "stdout",
     "output_type": "stream",
     "text": [
      "오늘 탕수육 주문 가능한가요?\n",
      "의도 예측 클래스 :  2\n",
      "의도 예측 레이블 :  주문\n"
     ]
    }
   ],
   "source": [
    "print(query)\n",
    "print('의도 예측 클래스 : ', predict)\n",
    "print('의도 예측 레이블 : ', predict_label)"
   ]
  },
  {
   "cell_type": "code",
   "execution_count": null,
   "id": "42821935",
   "metadata": {},
   "outputs": [],
   "source": []
  },
  {
   "cell_type": "code",
   "execution_count": null,
   "id": "7a49873c",
   "metadata": {},
   "outputs": [],
   "source": []
  }
 ],
 "metadata": {
  "kernelspec": {
   "display_name": "Python 3 (ipykernel)",
   "language": "python",
   "name": "python3"
  },
  "language_info": {
   "codemirror_mode": {
    "name": "ipython",
    "version": 3
   },
   "file_extension": ".py",
   "mimetype": "text/x-python",
   "name": "python",
   "nbconvert_exporter": "python",
   "pygments_lexer": "ipython3",
   "version": "3.9.7"
  }
 },
 "nbformat": 4,
 "nbformat_minor": 5
}
